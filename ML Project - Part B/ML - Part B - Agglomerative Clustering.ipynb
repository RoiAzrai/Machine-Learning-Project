{
 "cells": [
  {
   "cell_type": "code",
   "execution_count": 2,
   "id": "a8ad3c8b",
   "metadata": {},
   "outputs": [],
   "source": [
    "import pandas as pd\n",
    "import numpy as np\n",
    "import seaborn as sns\n",
    "import matplotlib.pyplot as plt\n",
    "%matplotlib inLine\n",
    "from sklearn.tree import DecisionTreeClassifier, plot_tree\n",
    "from sklearn.metrics import accuracy_score, confusion_matrix, f1_score, recall_score\n",
    "from sklearn.model_selection import train_test_split\n",
    "from sklearn.model_selection import KFold\n",
    "from sklearn.utils import class_weight\n",
    "from sklearn.model_selection import GridSearchCV\n",
    "\n",
    "\n",
    "import warnings\n",
    "warnings.simplefilter(action='ignore', category=FutureWarning)\n",
    "# https://www.python-graph-gallery.com/"
   ]
  },
  {
   "cell_type": "markdown",
   "id": "7129ba9f",
   "metadata": {},
   "source": [
    "# Read File - X_test"
   ]
  },
  {
   "cell_type": "code",
   "execution_count": 4,
   "id": "31e7a8b2",
   "metadata": {},
   "outputs": [],
   "source": [
    "# directory = r\"C:\\Users\\Lital\\Desktop\\ML\\Project_ML\\part2\\new\\X_test_F.xlsx\"\n",
    "# X_test = pd.read_excel(directory)\n",
    "# X_test = pd.DataFrame(X_test)\n",
    "# X_test = pd.get_dummies(X_test, columns=['Blood_Pressure'])\n",
    "\n",
    "# X_test"
   ]
  },
  {
   "cell_type": "markdown",
   "id": "07917745",
   "metadata": {},
   "source": [
    "# Read File - Xy_train"
   ]
  },
  {
   "cell_type": "code",
   "execution_count": 3,
   "id": "695d1bac",
   "metadata": {},
   "outputs": [],
   "source": [
    "# directory =r\"C:\\Users\\Lital\\Desktop\\ML\\Project_ML\\part2\\new\\Xy_train_F.xlsx\"\n",
    "# df = pd.read_excel(directory)\n",
    "# df = pd.DataFrame(df)\n",
    "\n",
    "# X_train = df.drop('smoking', 1)\n",
    "# y_train = df['smoking']\n",
    "# X_train = pd.get_dummies(X_train, columns=['Blood_Pressure'])\n",
    "\n",
    "# X_train"
   ]
  },
  {
   "cell_type": "code",
   "execution_count": 4,
   "id": "4d51d574",
   "metadata": {},
   "outputs": [
    {
     "name": "stdout",
     "output_type": "stream",
     "text": [
      "Done\n"
     ]
    }
   ],
   "source": [
    "directory = r\"C:\\Users\\RoiAz\\Machine Learning Project\\Part B\\X_test_F.xlsx\"\n",
    "X_test = pd.read_excel(directory)\n",
    "X_test = pd.DataFrame(X_test)\n",
    "X_test = pd.get_dummies(X_test, columns=['Blood_Pressure'])\n",
    "\n",
    "directory = r\"C:\\Users\\RoiAz\\Machine Learning Project\\Part B\\Xy_train_F.xlsx\"\n",
    "df = pd.read_excel(directory)\n",
    "df = pd.DataFrame(df)\n",
    "\n",
    "X_train = df.drop('smoking', 1)\n",
    "y_train = df['smoking']\n",
    "X_train = pd.get_dummies(X_train, columns=['Blood_Pressure'])\n",
    "\n",
    "print(\"Done\")"
   ]
  },
  {
   "cell_type": "code",
   "execution_count": 7,
   "id": "dad343e5",
   "metadata": {},
   "outputs": [],
   "source": [
    "x_train, x_test, y_train, y_test = train_test_split(X_train, y_train, test_size=0.2, random_state=123)"
   ]
  },
  {
   "cell_type": "code",
   "execution_count": 8,
   "id": "7b6c995a",
   "metadata": {},
   "outputs": [],
   "source": [
    "\n",
    "from sklearn.metrics import accuracy_score, confusion_matrix, classification_report\n",
    "from sklearn.preprocessing import StandardScaler, MinMaxScaler\n",
    "from sklearn import metrics\n",
    "from sklearn.metrics import f1_score\n",
    "\n",
    "scaler = StandardScaler()\n",
    "scaler.fit(x_train)\n",
    "\n",
    "X_train_scaled = scaler.transform(x_train)\n",
    "X_test_scaled = scaler.transform(x_test)"
   ]
  },
  {
   "cell_type": "code",
   "execution_count": 9,
   "id": "5cf27dac",
   "metadata": {},
   "outputs": [],
   "source": [
    "from sklearn.decomposition import PCA\n",
    "pca = PCA(n_components=2)\n",
    "pca.fit_transform(X_train_scaled)\n",
    "data_pca = pca.fit_transform(X_train_scaled)\n",
    "data_pca = pd.DataFrame(data_pca, columns=['PC1', 'PC2'])\n",
    "Y_train = pd.DataFrame(y_train).reset_index()['smoking']\n",
    "data_pca['smoking'] = Y_train"
   ]
  },
  {
   "cell_type": "code",
   "execution_count": 10,
   "id": "702ce751",
   "metadata": {},
   "outputs": [
    {
     "name": "stdout",
     "output_type": "stream",
     "text": [
      "[0.22452474 0.12167921]\n",
      "0.3462039449497961\n"
     ]
    }
   ],
   "source": [
    "print(pca.explained_variance_ratio_)\n",
    "print(pca.explained_variance_ratio_.sum())"
   ]
  },
  {
   "cell_type": "code",
   "execution_count": 11,
   "id": "8183179c",
   "metadata": {},
   "outputs": [
    {
     "data": {
      "text/html": [
       "<div>\n",
       "<style scoped>\n",
       "    .dataframe tbody tr th:only-of-type {\n",
       "        vertical-align: middle;\n",
       "    }\n",
       "\n",
       "    .dataframe tbody tr th {\n",
       "        vertical-align: top;\n",
       "    }\n",
       "\n",
       "    .dataframe thead th {\n",
       "        text-align: right;\n",
       "    }\n",
       "</style>\n",
       "<table border=\"1\" class=\"dataframe\">\n",
       "  <thead>\n",
       "    <tr style=\"text-align: right;\">\n",
       "      <th></th>\n",
       "      <th>PC1</th>\n",
       "      <th>PC2</th>\n",
       "      <th>smoking</th>\n",
       "    </tr>\n",
       "  </thead>\n",
       "  <tbody>\n",
       "    <tr>\n",
       "      <th>0</th>\n",
       "      <td>1.559216</td>\n",
       "      <td>-1.167239</td>\n",
       "      <td>0</td>\n",
       "    </tr>\n",
       "    <tr>\n",
       "      <th>1</th>\n",
       "      <td>1.463704</td>\n",
       "      <td>-0.312253</td>\n",
       "      <td>0</td>\n",
       "    </tr>\n",
       "    <tr>\n",
       "      <th>2</th>\n",
       "      <td>-1.321864</td>\n",
       "      <td>0.642242</td>\n",
       "      <td>0</td>\n",
       "    </tr>\n",
       "    <tr>\n",
       "      <th>3</th>\n",
       "      <td>-0.091168</td>\n",
       "      <td>-1.550334</td>\n",
       "      <td>1</td>\n",
       "    </tr>\n",
       "    <tr>\n",
       "      <th>4</th>\n",
       "      <td>1.146428</td>\n",
       "      <td>-0.632324</td>\n",
       "      <td>1</td>\n",
       "    </tr>\n",
       "    <tr>\n",
       "      <th>5</th>\n",
       "      <td>1.312863</td>\n",
       "      <td>0.520512</td>\n",
       "      <td>0</td>\n",
       "    </tr>\n",
       "    <tr>\n",
       "      <th>6</th>\n",
       "      <td>-0.770616</td>\n",
       "      <td>1.815981</td>\n",
       "      <td>0</td>\n",
       "    </tr>\n",
       "    <tr>\n",
       "      <th>7</th>\n",
       "      <td>0.134221</td>\n",
       "      <td>-3.523430</td>\n",
       "      <td>0</td>\n",
       "    </tr>\n",
       "    <tr>\n",
       "      <th>8</th>\n",
       "      <td>-2.988717</td>\n",
       "      <td>0.405393</td>\n",
       "      <td>0</td>\n",
       "    </tr>\n",
       "    <tr>\n",
       "      <th>9</th>\n",
       "      <td>0.738446</td>\n",
       "      <td>-1.460339</td>\n",
       "      <td>1</td>\n",
       "    </tr>\n",
       "  </tbody>\n",
       "</table>\n",
       "</div>"
      ],
      "text/plain": [
       "        PC1       PC2  smoking\n",
       "0  1.559216 -1.167239        0\n",
       "1  1.463704 -0.312253        0\n",
       "2 -1.321864  0.642242        0\n",
       "3 -0.091168 -1.550334        1\n",
       "4  1.146428 -0.632324        1\n",
       "5  1.312863  0.520512        0\n",
       "6 -0.770616  1.815981        0\n",
       "7  0.134221 -3.523430        0\n",
       "8 -2.988717  0.405393        0\n",
       "9  0.738446 -1.460339        1"
      ]
     },
     "execution_count": 11,
     "metadata": {},
     "output_type": "execute_result"
    }
   ],
   "source": [
    "data_pca.head(10)"
   ]
  },
  {
   "cell_type": "markdown",
   "id": "3a900d3b",
   "metadata": {},
   "source": [
    "# AgglomerativeClustering"
   ]
  },
  {
   "cell_type": "code",
   "execution_count": 26,
   "id": "337b95af",
   "metadata": {},
   "outputs": [],
   "source": [
    "from sklearn.model_selection import train_test_split\n",
    "from sklearn.cluster import AgglomerativeClustering\n",
    "from sklearn.metrics import adjusted_rand_score"
   ]
  },
  {
   "cell_type": "code",
   "execution_count": 27,
   "id": "7d795426",
   "metadata": {},
   "outputs": [],
   "source": [
    "cluster = AgglomerativeClustering(n_clusters=2, affinity='euclidean', linkage='single')\n",
    "assignment = cluster.fit_predict(X_train_scaled)\n",
    "data_pca['cluster']=cluster.fit_predict(X_train_scaled)\n",
    "assignment1 = cluster.fit_predict(X_test_scaled)"
   ]
  },
  {
   "cell_type": "code",
   "execution_count": 29,
   "id": "8ef860fa",
   "metadata": {},
   "outputs": [
    {
     "name": "stdout",
     "output_type": "stream",
     "text": [
      "Train Acc:\n",
      "63.42 %\n",
      "\n",
      "Test Acc:\n",
      "62.68 %\n"
     ]
    }
   ],
   "source": [
    "\n",
    "print(\"Train Acc:\")\n",
    "print(round(accuracy_score(y_true=y_train, y_pred=assignment)*100,2),'%')\n",
    "#test acc score\n",
    "print(\"\\nTest Acc:\")\n",
    "print(round(accuracy_score(y_true=y_test, y_pred=assignment1)*100,2),'%')"
   ]
  },
  {
   "cell_type": "markdown",
   "id": "b5ce05aa",
   "metadata": {},
   "source": [
    "## Graph"
   ]
  },
  {
   "cell_type": "code",
   "execution_count": null,
   "id": "231b233d",
   "metadata": {},
   "outputs": [],
   "source": [
    "import scipy.cluster.hierarchy as shc\n",
    "import matplotlib.pyplot as plt\n",
    "\n",
    "plt.figure(figsize=(10, 7))  \n",
    "plt.title(\"Dendrograms\")\n",
    "dend = shc.dendrogram(shc.linkage(X_train_scaled, method='ward'))\n",
    "plt.axhline(y=8, color='r', linestyle='--')"
   ]
  },
  {
   "cell_type": "code",
   "execution_count": null,
   "id": "79f1f23e",
   "metadata": {},
   "outputs": [],
   "source": [
    "import scipy.cluster.hierarchy as shc\n",
    "import matplotlib.pyplot as plt\n",
    "\n",
    "plt.figure(figsize=(10, 7))  \n",
    "plt.title(\"Dendrograms\")  \n",
    "# Create a dendrogram using the linkage matrix\n",
    "dend = shc.dendrogram(shc.linkage(data_pca, method='single'))\n",
    "# Add a title to the plot\n",
    "plt.title(\"Agglomerative Clustering Dendrogram\")\n",
    "# Display the plot\n",
    "plt.show()"
   ]
  },
  {
   "cell_type": "markdown",
   "id": "83443dcf",
   "metadata": {},
   "source": [
    "# Check"
   ]
  },
  {
   "cell_type": "code",
   "execution_count": 18,
   "id": "fe5730d7",
   "metadata": {},
   "outputs": [],
   "source": [
    "from sklearn.metrics import silhouette_score, davies_bouldin_score\n",
    "from tqdm import tqdm"
   ]
  },
  {
   "cell_type": "code",
   "execution_count": 19,
   "id": "aff2c5bf",
   "metadata": {},
   "outputs": [],
   "source": [
    "iner_list = []\n",
    "dbi_list = []\n",
    "sil_list = []\n",
    "\n",
    "cluster = AgglomerativeClustering(n_clusters=8, affinity='euclidean', linkage='single') \n",
    "assignment = cluster.fit_predict(X_train_scaled)\n",
    "    \n",
    "sil = silhouette_score(X_train_scaled, assignment)\n",
    "dbi = davies_bouldin_score(X_train_scaled, assignment)\n",
    "    \n",
    "dbi_list.append(dbi)\n",
    "sil_list.append(sil)"
   ]
  },
  {
   "cell_type": "code",
   "execution_count": 20,
   "id": "48d87ce4",
   "metadata": {},
   "outputs": [
    {
     "name": "stderr",
     "output_type": "stream",
     "text": [
      "100%|██████████| 8/8 [10:06<00:00, 75.78s/it] \n"
     ]
    }
   ],
   "source": [
    "iner_list = []\n",
    "dbi_list = []\n",
    "sil_list = []\n",
    "\n",
    "for n_clusters in tqdm(range(2, 10, 1)):\n",
    "    cluster = AgglomerativeClustering(n_clusters=n_clusters, affinity='euclidean', linkage='single') \n",
    "    assignment = cluster.fit_predict(X_train_scaled)\n",
    "    \n",
    "    sil = silhouette_score(X_train_scaled, assignment)\n",
    "    dbi = davies_bouldin_score(X_train_scaled, assignment)\n",
    "    \n",
    "    dbi_list.append(dbi)\n",
    "    sil_list.append(sil)\n",
    "    "
   ]
  },
  {
   "cell_type": "code",
   "execution_count": 21,
   "id": "cb37ab8d",
   "metadata": {},
   "outputs": [
    {
     "data": {
      "text/plain": [
       "[0.43095642330404943,\n",
       " 0.4118295843714888,\n",
       " 0.40351298650625284,\n",
       " 0.37283702598049245,\n",
       " 0.3484375546834487,\n",
       " 0.34688850470901245,\n",
       " 0.3327063671384735,\n",
       " 0.27810430180232015]"
      ]
     },
     "execution_count": 21,
     "metadata": {},
     "output_type": "execute_result"
    }
   ],
   "source": [
    "sil_list"
   ]
  },
  {
   "cell_type": "code",
   "execution_count": 22,
   "id": "8514e326",
   "metadata": {},
   "outputs": [
    {
     "data": {
      "image/png": "[encoded data removed]",
      "text/plain": [
       "<Figure size 432x288 with 1 Axes>"
      ]
     },
     "metadata": {
      "needs_background": "light"
     },
     "output_type": "display_data"
    },
    {
     "data": {
      "image/png": "[encoded data removed]",
      "text/plain": [
       "<Figure size 432x288 with 1 Axes>"
      ]
     },
     "metadata": {
      "needs_background": "light"
     },
     "output_type": "display_data"
    }
   ],
   "source": [
    "plt.plot(range(2, 10, 1), sil_list, marker='o')\n",
    "plt.title(\"Silhouette\")\n",
    "plt.xlabel(\"Number of clusters\")\n",
    "plt.show()\n",
    "\n",
    "plt.plot(range(2, 10, 1), dbi_list, marker='o')\n",
    "plt.title(\"Davies-Bouldin\")\n",
    "plt.xlabel(\"Number of clusters\")\n",
    "plt.show()"
   ]
  }
 ],
 "metadata": {
  "kernelspec": {
   "display_name": "Python 3 (ipykernel)",
   "language": "python",
   "name": "python3"
  },
  "language_info": {
   "codemirror_mode": {
    "name": "ipython",
    "version": 3
   },
   "file_extension": ".py",
   "mimetype": "text/x-python",
   "name": "python",
   "nbconvert_exporter": "python",
   "pygments_lexer": "ipython3",
   "version": "3.9.12"
  }
 },
 "nbformat": 4,
 "nbformat_minor": 5
}
